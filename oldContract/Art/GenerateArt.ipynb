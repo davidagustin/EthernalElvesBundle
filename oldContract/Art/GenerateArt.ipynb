{
 "cells": [
  {
   "cell_type": "code",
   "execution_count": 8,
   "metadata": {},
   "outputs": [],
   "source": [
    "from PIL import Image, ImageOps\n",
    "from IPython.display import display\n",
    "import random\n",
    "import json\n",
    "import base64\n",
    "import os\n"
   ]
  },
  {
   "cell_type": "code",
   "execution_count": 9,
   "metadata": {},
   "outputs": [
    {
     "name": "stdout",
     "output_type": "stream",
     "text": [
      "done\n"
     ]
    }
   ],
   "source": [
    "#### IMAGE GENERATION\n",
    "directory_files = os.listdir()\n",
    "multiple_images = [file for file in directory_files if file.endswith(('.png'))]\n",
    "f = open(\"art.txt\", \"w\")\n",
    "\n",
    "newstr = \"For Art.sol \\n\\n\\n\"\n",
    "counter = 1\n",
    "\n",
    "\n",
    "for image in multiple_images:\n",
    "\n",
    "    with open(image, \"rb\") as image:\n",
    "    \n",
    "        base64_bytes = base64.b64encode(image.read())\n",
    "    \n",
    "    filename = str(image.name).split(\"-\")\n",
    "    fixFilename = filename[0].lower()\n",
    "\n",
    "    \n",
    "    newstr += \"string public constant \" + fixFilename + ' = \"' + base64_bytes.decode('utf-8') + '\"; \\n'\n",
    "    counter = counter + 1\n",
    "    # We would run the command below to save the images:\n",
    "    # img.save('resized-image_'+image, optimize=True)\n",
    "\n",
    "f.write(newstr)\n",
    "f.close()\n",
    "\n",
    "print('done')\n",
    "\n",
    "    \n",
    "    "
   ]
  },
  {
   "cell_type": "code",
   "execution_count": null,
   "metadata": {},
   "outputs": [],
   "source": []
  },
  {
   "cell_type": "code",
   "execution_count": null,
   "metadata": {},
   "outputs": [],
   "source": []
  }
 ],
 "metadata": {
  "kernelspec": {
   "display_name": "Python 3 (ipykernel)",
   "language": "python",
   "name": "python3"
  },
  "language_info": {
   "codemirror_mode": {
    "name": "ipython",
    "version": 3
   },
   "file_extension": ".py",
   "mimetype": "text/x-python",
   "name": "python",
   "nbconvert_exporter": "python",
   "pygments_lexer": "ipython3",
   "version": "3.9.6"
  }
 },
 "nbformat": 4,
 "nbformat_minor": 4
}
